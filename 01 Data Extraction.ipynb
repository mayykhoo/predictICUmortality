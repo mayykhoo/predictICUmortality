{
 "cells": [
  {
   "cell_type": "markdown",
   "metadata": {},
   "source": [
    "# Data Extraction"
   ]
  },
  {
   "cell_type": "code",
   "execution_count": 8,
   "metadata": {
    "ExecuteTime": {
     "end_time": "2020-03-27T16:21:39.179138Z",
     "start_time": "2020-03-27T16:21:39.174708Z"
    }
   },
   "outputs": [],
   "source": [
    "#Import libraries\n",
    "import pandas as pd\n",
    "import numpy as np\n",
    "import datasist as ds\n",
    "import os\n",
    "import glob"
   ]
  },
  {
   "cell_type": "code",
   "execution_count": 9,
   "metadata": {
    "ExecuteTime": {
     "end_time": "2020-03-27T16:23:55.607049Z",
     "start_time": "2020-03-27T16:21:44.060648Z"
    },
    "code_folding": []
   },
   "outputs": [],
   "source": [
    "#Specify directory to read patient files\n",
    "file_dir = glob.glob('data/set-a/*.txt')\n",
    "\n",
    "#Specify format of DataFrame\n",
    "df = pd.DataFrame(columns=['Patient', 'Time', 'Parameter', 'Value'])\n",
    "\n",
    "#Read files in directory and append to DataFrame\n",
    "for file in file_dir:\n",
    "    with open(file) as f:\n",
    "        df_read = pd.DataFrame(pd.read_csv(f), columns=['Time', 'Parameter', 'Value'])\n",
    "        df_read['Patient'] = file\n",
    "        df = df.append(df_read, ignore_index=True, sort=False)"
   ]
  },
  {
   "cell_type": "code",
   "execution_count": 10,
   "metadata": {
    "ExecuteTime": {
     "end_time": "2020-03-27T16:23:55.872341Z",
     "start_time": "2020-03-27T16:23:55.863367Z"
    }
   },
   "outputs": [
    {
     "data": {
      "text/html": [
       "<div>\n",
       "<style scoped>\n",
       "    .dataframe tbody tr th:only-of-type {\n",
       "        vertical-align: middle;\n",
       "    }\n",
       "\n",
       "    .dataframe tbody tr th {\n",
       "        vertical-align: top;\n",
       "    }\n",
       "\n",
       "    .dataframe thead th {\n",
       "        text-align: right;\n",
       "    }\n",
       "</style>\n",
       "<table border=\"1\" class=\"dataframe\">\n",
       "  <thead>\n",
       "    <tr style=\"text-align: right;\">\n",
       "      <th></th>\n",
       "      <th>Patient</th>\n",
       "      <th>Time</th>\n",
       "      <th>Parameter</th>\n",
       "      <th>Value</th>\n",
       "    </tr>\n",
       "  </thead>\n",
       "  <tbody>\n",
       "    <tr>\n",
       "      <th>1765298</th>\n",
       "      <td>data/set-c\\163037.txt</td>\n",
       "      <td>47:27</td>\n",
       "      <td>DiasABP</td>\n",
       "      <td>47.0</td>\n",
       "    </tr>\n",
       "    <tr>\n",
       "      <th>1765299</th>\n",
       "      <td>data/set-c\\163037.txt</td>\n",
       "      <td>47:27</td>\n",
       "      <td>HR</td>\n",
       "      <td>74.0</td>\n",
       "    </tr>\n",
       "    <tr>\n",
       "      <th>1765300</th>\n",
       "      <td>data/set-c\\163037.txt</td>\n",
       "      <td>47:27</td>\n",
       "      <td>MAP</td>\n",
       "      <td>63.0</td>\n",
       "    </tr>\n",
       "    <tr>\n",
       "      <th>1765301</th>\n",
       "      <td>data/set-c\\163037.txt</td>\n",
       "      <td>47:27</td>\n",
       "      <td>SysABP</td>\n",
       "      <td>99.0</td>\n",
       "    </tr>\n",
       "    <tr>\n",
       "      <th>1765302</th>\n",
       "      <td>data/set-c\\163037.txt</td>\n",
       "      <td>47:27</td>\n",
       "      <td>Urine</td>\n",
       "      <td>30.0</td>\n",
       "    </tr>\n",
       "  </tbody>\n",
       "</table>\n",
       "</div>"
      ],
      "text/plain": [
       "                       Patient   Time Parameter  Value\n",
       "1765298  data/set-c\\163037.txt  47:27   DiasABP   47.0\n",
       "1765299  data/set-c\\163037.txt  47:27        HR   74.0\n",
       "1765300  data/set-c\\163037.txt  47:27       MAP   63.0\n",
       "1765301  data/set-c\\163037.txt  47:27    SysABP   99.0\n",
       "1765302  data/set-c\\163037.txt  47:27     Urine   30.0"
      ]
     },
     "execution_count": 10,
     "metadata": {},
     "output_type": "execute_result"
    }
   ],
   "source": [
    "#Display last few rows of data\n",
    "df.tail()"
   ]
  },
  {
   "cell_type": "code",
   "execution_count": 11,
   "metadata": {
    "ExecuteTime": {
     "end_time": "2020-03-27T16:24:00.001306Z",
     "start_time": "2020-03-27T16:23:56.121675Z"
    }
   },
   "outputs": [],
   "source": [
    "#Extract Patient ID from file name\n",
    "df['Patient'] = df['Patient'].str.extract('(\\d+)')"
   ]
  },
  {
   "cell_type": "code",
   "execution_count": 12,
   "metadata": {
    "ExecuteTime": {
     "end_time": "2020-03-27T16:24:00.836585Z",
     "start_time": "2020-03-27T16:24:00.265151Z"
    }
   },
   "outputs": [
    {
     "data": {
      "text/html": [
       "<div>\n",
       "<style scoped>\n",
       "    .dataframe tbody tr th:only-of-type {\n",
       "        vertical-align: middle;\n",
       "    }\n",
       "\n",
       "    .dataframe tbody tr th {\n",
       "        vertical-align: top;\n",
       "    }\n",
       "\n",
       "    .dataframe thead th {\n",
       "        text-align: right;\n",
       "    }\n",
       "</style>\n",
       "<table border=\"1\" class=\"dataframe\">\n",
       "  <thead>\n",
       "    <tr style=\"text-align: right;\">\n",
       "      <th></th>\n",
       "      <th>Patient</th>\n",
       "      <th>Time</th>\n",
       "      <th>Parameter</th>\n",
       "      <th>Value</th>\n",
       "      <th>Hour</th>\n",
       "    </tr>\n",
       "  </thead>\n",
       "  <tbody>\n",
       "    <tr>\n",
       "      <th>1765298</th>\n",
       "      <td>163037</td>\n",
       "      <td>47:27</td>\n",
       "      <td>DiasABP</td>\n",
       "      <td>47.0</td>\n",
       "      <td>47</td>\n",
       "    </tr>\n",
       "    <tr>\n",
       "      <th>1765299</th>\n",
       "      <td>163037</td>\n",
       "      <td>47:27</td>\n",
       "      <td>HR</td>\n",
       "      <td>74.0</td>\n",
       "      <td>47</td>\n",
       "    </tr>\n",
       "    <tr>\n",
       "      <th>1765300</th>\n",
       "      <td>163037</td>\n",
       "      <td>47:27</td>\n",
       "      <td>MAP</td>\n",
       "      <td>63.0</td>\n",
       "      <td>47</td>\n",
       "    </tr>\n",
       "    <tr>\n",
       "      <th>1765301</th>\n",
       "      <td>163037</td>\n",
       "      <td>47:27</td>\n",
       "      <td>SysABP</td>\n",
       "      <td>99.0</td>\n",
       "      <td>47</td>\n",
       "    </tr>\n",
       "    <tr>\n",
       "      <th>1765302</th>\n",
       "      <td>163037</td>\n",
       "      <td>47:27</td>\n",
       "      <td>Urine</td>\n",
       "      <td>30.0</td>\n",
       "      <td>47</td>\n",
       "    </tr>\n",
       "  </tbody>\n",
       "</table>\n",
       "</div>"
      ],
      "text/plain": [
       "        Patient   Time Parameter  Value Hour\n",
       "1765298  163037  47:27   DiasABP   47.0   47\n",
       "1765299  163037  47:27        HR   74.0   47\n",
       "1765300  163037  47:27       MAP   63.0   47\n",
       "1765301  163037  47:27    SysABP   99.0   47\n",
       "1765302  163037  47:27     Urine   30.0   47"
      ]
     },
     "execution_count": 12,
     "metadata": {},
     "output_type": "execute_result"
    }
   ],
   "source": [
    "#Extract hour\n",
    "df['Hour'] = df['Time'].apply(lambda x: x.split(\":\")[0])\n",
    "\n",
    "#Display last few rows of data\n",
    "df.tail()"
   ]
  },
  {
   "cell_type": "code",
   "execution_count": 13,
   "metadata": {
    "ExecuteTime": {
     "end_time": "2020-03-27T16:24:05.915592Z",
     "start_time": "2020-03-27T16:24:01.092900Z"
    }
   },
   "outputs": [],
   "source": [
    "#Save file\n",
    "df.to_csv(\"df_SetC.csv\")"
   ]
  },
  {
   "cell_type": "markdown",
   "metadata": {},
   "source": [
    "# Convert to wide Pivot Table format"
   ]
  },
  {
   "cell_type": "code",
   "execution_count": 14,
   "metadata": {
    "ExecuteTime": {
     "end_time": "2020-03-27T16:24:09.147885Z",
     "start_time": "2020-03-27T16:24:06.169845Z"
    }
   },
   "outputs": [
    {
     "data": {
      "text/html": [
       "<div>\n",
       "<style scoped>\n",
       "    .dataframe tbody tr th:only-of-type {\n",
       "        vertical-align: middle;\n",
       "    }\n",
       "\n",
       "    .dataframe tbody tr th {\n",
       "        vertical-align: top;\n",
       "    }\n",
       "\n",
       "    .dataframe thead tr th {\n",
       "        text-align: left;\n",
       "    }\n",
       "\n",
       "    .dataframe thead tr:last-of-type th {\n",
       "        text-align: right;\n",
       "    }\n",
       "</style>\n",
       "<table border=\"1\" class=\"dataframe\">\n",
       "  <thead>\n",
       "    <tr>\n",
       "      <th></th>\n",
       "      <th></th>\n",
       "      <th colspan=\"21\" halign=\"left\">Value</th>\n",
       "    </tr>\n",
       "    <tr>\n",
       "      <th></th>\n",
       "      <th>Parameter</th>\n",
       "      <th>ALP</th>\n",
       "      <th>ALT</th>\n",
       "      <th>AST</th>\n",
       "      <th>Age</th>\n",
       "      <th>Albumin</th>\n",
       "      <th>BUN</th>\n",
       "      <th>Bilirubin</th>\n",
       "      <th>Cholesterol</th>\n",
       "      <th>Creatinine</th>\n",
       "      <th>DiasABP</th>\n",
       "      <th>...</th>\n",
       "      <th>RespRate</th>\n",
       "      <th>SaO2</th>\n",
       "      <th>SysABP</th>\n",
       "      <th>Temp</th>\n",
       "      <th>TroponinI</th>\n",
       "      <th>TroponinT</th>\n",
       "      <th>Urine</th>\n",
       "      <th>WBC</th>\n",
       "      <th>Weight</th>\n",
       "      <th>pH</th>\n",
       "    </tr>\n",
       "    <tr>\n",
       "      <th>Patient</th>\n",
       "      <th>Time</th>\n",
       "      <th></th>\n",
       "      <th></th>\n",
       "      <th></th>\n",
       "      <th></th>\n",
       "      <th></th>\n",
       "      <th></th>\n",
       "      <th></th>\n",
       "      <th></th>\n",
       "      <th></th>\n",
       "      <th></th>\n",
       "      <th></th>\n",
       "      <th></th>\n",
       "      <th></th>\n",
       "      <th></th>\n",
       "      <th></th>\n",
       "      <th></th>\n",
       "      <th></th>\n",
       "      <th></th>\n",
       "      <th></th>\n",
       "      <th></th>\n",
       "      <th></th>\n",
       "    </tr>\n",
       "  </thead>\n",
       "  <tbody>\n",
       "    <tr>\n",
       "      <th rowspan=\"5\" valign=\"top\">152871</th>\n",
       "      <th>00:00</th>\n",
       "      <td>NaN</td>\n",
       "      <td>NaN</td>\n",
       "      <td>NaN</td>\n",
       "      <td>71.0</td>\n",
       "      <td>NaN</td>\n",
       "      <td>NaN</td>\n",
       "      <td>NaN</td>\n",
       "      <td>NaN</td>\n",
       "      <td>NaN</td>\n",
       "      <td>NaN</td>\n",
       "      <td>...</td>\n",
       "      <td>NaN</td>\n",
       "      <td>NaN</td>\n",
       "      <td>NaN</td>\n",
       "      <td>NaN</td>\n",
       "      <td>NaN</td>\n",
       "      <td>NaN</td>\n",
       "      <td>NaN</td>\n",
       "      <td>NaN</td>\n",
       "      <td>79.2</td>\n",
       "      <td>NaN</td>\n",
       "    </tr>\n",
       "    <tr>\n",
       "      <th>00:28</th>\n",
       "      <td>NaN</td>\n",
       "      <td>NaN</td>\n",
       "      <td>NaN</td>\n",
       "      <td>NaN</td>\n",
       "      <td>NaN</td>\n",
       "      <td>NaN</td>\n",
       "      <td>NaN</td>\n",
       "      <td>NaN</td>\n",
       "      <td>NaN</td>\n",
       "      <td>NaN</td>\n",
       "      <td>...</td>\n",
       "      <td>NaN</td>\n",
       "      <td>NaN</td>\n",
       "      <td>NaN</td>\n",
       "      <td>NaN</td>\n",
       "      <td>NaN</td>\n",
       "      <td>NaN</td>\n",
       "      <td>NaN</td>\n",
       "      <td>NaN</td>\n",
       "      <td>NaN</td>\n",
       "      <td>NaN</td>\n",
       "    </tr>\n",
       "    <tr>\n",
       "      <th>00:38</th>\n",
       "      <td>NaN</td>\n",
       "      <td>NaN</td>\n",
       "      <td>NaN</td>\n",
       "      <td>NaN</td>\n",
       "      <td>NaN</td>\n",
       "      <td>NaN</td>\n",
       "      <td>NaN</td>\n",
       "      <td>NaN</td>\n",
       "      <td>NaN</td>\n",
       "      <td>59.0</td>\n",
       "      <td>...</td>\n",
       "      <td>NaN</td>\n",
       "      <td>NaN</td>\n",
       "      <td>154.0</td>\n",
       "      <td>NaN</td>\n",
       "      <td>NaN</td>\n",
       "      <td>NaN</td>\n",
       "      <td>NaN</td>\n",
       "      <td>NaN</td>\n",
       "      <td>NaN</td>\n",
       "      <td>NaN</td>\n",
       "    </tr>\n",
       "    <tr>\n",
       "      <th>00:48</th>\n",
       "      <td>NaN</td>\n",
       "      <td>NaN</td>\n",
       "      <td>NaN</td>\n",
       "      <td>NaN</td>\n",
       "      <td>NaN</td>\n",
       "      <td>NaN</td>\n",
       "      <td>NaN</td>\n",
       "      <td>NaN</td>\n",
       "      <td>NaN</td>\n",
       "      <td>NaN</td>\n",
       "      <td>...</td>\n",
       "      <td>NaN</td>\n",
       "      <td>NaN</td>\n",
       "      <td>NaN</td>\n",
       "      <td>NaN</td>\n",
       "      <td>NaN</td>\n",
       "      <td>NaN</td>\n",
       "      <td>NaN</td>\n",
       "      <td>NaN</td>\n",
       "      <td>79.2</td>\n",
       "      <td>NaN</td>\n",
       "    </tr>\n",
       "    <tr>\n",
       "      <th>01:18</th>\n",
       "      <td>NaN</td>\n",
       "      <td>NaN</td>\n",
       "      <td>NaN</td>\n",
       "      <td>NaN</td>\n",
       "      <td>NaN</td>\n",
       "      <td>NaN</td>\n",
       "      <td>NaN</td>\n",
       "      <td>NaN</td>\n",
       "      <td>NaN</td>\n",
       "      <td>36.0</td>\n",
       "      <td>...</td>\n",
       "      <td>NaN</td>\n",
       "      <td>NaN</td>\n",
       "      <td>89.0</td>\n",
       "      <td>36.9</td>\n",
       "      <td>NaN</td>\n",
       "      <td>NaN</td>\n",
       "      <td>NaN</td>\n",
       "      <td>NaN</td>\n",
       "      <td>79.2</td>\n",
       "      <td>NaN</td>\n",
       "    </tr>\n",
       "  </tbody>\n",
       "</table>\n",
       "<p>5 rows × 42 columns</p>\n",
       "</div>"
      ],
      "text/plain": [
       "              Value                                                  \\\n",
       "Parameter       ALP ALT AST   Age Albumin BUN Bilirubin Cholesterol   \n",
       "Patient Time                                                          \n",
       "152871  00:00   NaN NaN NaN  71.0     NaN NaN       NaN         NaN   \n",
       "        00:28   NaN NaN NaN   NaN     NaN NaN       NaN         NaN   \n",
       "        00:38   NaN NaN NaN   NaN     NaN NaN       NaN         NaN   \n",
       "        00:48   NaN NaN NaN   NaN     NaN NaN       NaN         NaN   \n",
       "        01:18   NaN NaN NaN   NaN     NaN NaN       NaN         NaN   \n",
       "\n",
       "                                  ...                                       \\\n",
       "Parameter     Creatinine DiasABP  ... RespRate SaO2 SysABP  Temp TroponinI   \n",
       "Patient Time                      ...                                        \n",
       "152871  00:00        NaN     NaN  ...      NaN  NaN    NaN   NaN       NaN   \n",
       "        00:28        NaN     NaN  ...      NaN  NaN    NaN   NaN       NaN   \n",
       "        00:38        NaN    59.0  ...      NaN  NaN  154.0   NaN       NaN   \n",
       "        00:48        NaN     NaN  ...      NaN  NaN    NaN   NaN       NaN   \n",
       "        01:18        NaN    36.0  ...      NaN  NaN   89.0  36.9       NaN   \n",
       "\n",
       "                                              \n",
       "Parameter     TroponinT Urine WBC Weight  pH  \n",
       "Patient Time                                  \n",
       "152871  00:00       NaN   NaN NaN   79.2 NaN  \n",
       "        00:28       NaN   NaN NaN    NaN NaN  \n",
       "        00:38       NaN   NaN NaN    NaN NaN  \n",
       "        00:48       NaN   NaN NaN   79.2 NaN  \n",
       "        01:18       NaN   NaN NaN   79.2 NaN  \n",
       "\n",
       "[5 rows x 42 columns]"
      ]
     },
     "execution_count": 14,
     "metadata": {},
     "output_type": "execute_result"
    }
   ],
   "source": [
    "#Convert long format to wide Pivot Table format\n",
    "df_pivot = pd.pivot_table(df.drop(['Hour'], axis=1), index=['Patient','Time'], columns=['Parameter'], values=['Value'])\n",
    "df_pivot.head()"
   ]
  },
  {
   "cell_type": "code",
   "execution_count": 15,
   "metadata": {
    "ExecuteTime": {
     "end_time": "2020-03-27T16:24:19.888181Z",
     "start_time": "2020-03-27T16:24:09.443097Z"
    }
   },
   "outputs": [],
   "source": [
    "#Save file\n",
    "df_pivot.to_csv('df_pivot_time_SetC.csv')"
   ]
  },
  {
   "cell_type": "code",
   "execution_count": null,
   "metadata": {},
   "outputs": [],
   "source": []
  }
 ],
 "metadata": {
  "hide_input": false,
  "kernelspec": {
   "display_name": "Python 3",
   "language": "python",
   "name": "python3"
  },
  "language_info": {
   "codemirror_mode": {
    "name": "ipython",
    "version": 3
   },
   "file_extension": ".py",
   "mimetype": "text/x-python",
   "name": "python",
   "nbconvert_exporter": "python",
   "pygments_lexer": "ipython3",
   "version": "3.7.6"
  },
  "varInspector": {
   "cols": {
    "lenName": 16,
    "lenType": 16,
    "lenVar": 40
   },
   "kernels_config": {
    "python": {
     "delete_cmd_postfix": "",
     "delete_cmd_prefix": "del ",
     "library": "var_list.py",
     "varRefreshCmd": "print(var_dic_list())"
    },
    "r": {
     "delete_cmd_postfix": ") ",
     "delete_cmd_prefix": "rm(",
     "library": "var_list.r",
     "varRefreshCmd": "cat(var_dic_list()) "
    }
   },
   "types_to_exclude": [
    "module",
    "function",
    "builtin_function_or_method",
    "instance",
    "_Feature"
   ],
   "window_display": false
  }
 },
 "nbformat": 4,
 "nbformat_minor": 2
}
